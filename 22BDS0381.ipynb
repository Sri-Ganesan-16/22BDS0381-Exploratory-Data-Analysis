{
  "nbformat": 4,
  "nbformat_minor": 0,
  "metadata": {
    "colab": {
      "provenance": [],
      "authorship_tag": "ABX9TyN0xanEvyy4aF2mfmMYJfui",
      "include_colab_link": true
    },
    "kernelspec": {
      "name": "python3",
      "display_name": "Python 3"
    },
    "language_info": {
      "name": "python"
    }
  },
  "cells": [
    {
      "cell_type": "markdown",
      "metadata": {
        "id": "view-in-github",
        "colab_type": "text"
      },
      "source": [
        "<a href=\"https://colab.research.google.com/github/Sri-Ganesan-16/22BDS0381-Exploratory-Data-Analysis/blob/main/22BDS0381.ipynb\" target=\"_parent\"><img src=\"https://colab.research.google.com/assets/colab-badge.svg\" alt=\"Open In Colab\"/></a>"
      ]
    },
    {
      "cell_type": "code",
      "execution_count": null,
      "metadata": {
        "id": "V3dx--_II2I6"
      },
      "outputs": [],
      "source": [
        "# Name: Sri Ganesan\n",
        "# Register number: 22BDS0381\n",
        "# Course name: Exploratory data analysis\n",
        "# Course code: BCSE331L\n",
        "# Slot : C1"
      ]
    },
    {
      "cell_type": "code",
      "source": [],
      "metadata": {
        "id": "gTda71ReJMOX"
      },
      "execution_count": null,
      "outputs": []
    }
  ]
}