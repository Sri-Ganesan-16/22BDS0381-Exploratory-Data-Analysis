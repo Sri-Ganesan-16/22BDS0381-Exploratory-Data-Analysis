{
  "nbformat": 4,
  "nbformat_minor": 0,
  "metadata": {
    "colab": {
      "provenance": [],
      "authorship_tag": "ABX9TyPgt1oYLPPNtpjgpj2qG85S",
      "include_colab_link": true
    },
    "kernelspec": {
      "name": "python3",
      "display_name": "Python 3"
    },
    "language_info": {
      "name": "python"
    }
  },
  "cells": [
    {
      "cell_type": "markdown",
      "metadata": {
        "id": "view-in-github",
        "colab_type": "text"
      },
      "source": [
        "<a href=\"https://colab.research.google.com/github/Sri-Ganesan-16/22BDS0381-Exploratory-Data-Analysis/blob/main/22BDS0381.ipynb\" target=\"_parent\"><img src=\"https://colab.research.google.com/assets/colab-badge.svg\" alt=\"Open In Colab\"/></a>"
      ]
    },
    {
      "cell_type": "code",
      "execution_count": null,
      "metadata": {
        "id": "V3dx--_II2I6"
      },
      "outputs": [],
      "source": [
        "# Name: Sri Ganesan\n",
        "# Register number: 22BDS0381\n",
        "# Course name: Exploratory data analysis\n",
        "# Course code: BCSE331L\n",
        "# Slot : C1"
      ]
    },
    {
      "cell_type": "code",
      "source": [
        "# Dataset = Auto.csv\n",
        "import pandas as pd\n",
        "\n",
        "# Load the dataset\n",
        "df = pd.read_csv('Auto.csv')\n",
        "\n",
        "# Preview the first 5 rows\n",
        "print(df.head())"
      ],
      "metadata": {
        "id": "gTda71ReJMOX",
        "colab": {
          "base_uri": "https://localhost:8080/"
        },
        "outputId": "079601ed-57ab-4bdc-e069-e2ce7b30b4bc"
      },
      "execution_count": 4,
      "outputs": [
        {
          "output_type": "stream",
          "name": "stdout",
          "text": [
            "    mpg  cylinders  displacement  horsepower  weight  acceleration  year  \\\n",
            "0  18.0          8         307.0         130    3504          12.0    70   \n",
            "1  15.0          8         350.0         165    3693          11.5    70   \n",
            "2  18.0          8         318.0         150    3436          11.0    70   \n",
            "3  16.0          8         304.0         150    3433          12.0    70   \n",
            "4  17.0          8         302.0         140    3449          10.5    70   \n",
            "\n",
            "   origin                       name  \n",
            "0       1  chevrolet chevelle malibu  \n",
            "1       1          buick skylark 320  \n",
            "2       1         plymouth satellite  \n",
            "3       1              amc rebel sst  \n",
            "4       1                ford torino  \n"
          ]
        }
      ]
    },
    {
      "cell_type": "code",
      "source": [
        "# Module 1\n",
        "\n",
        "# Identifying data types of attributes (Qualitative or Quantitative)\n",
        "import pandas as pd\n",
        "import numpy as np\n",
        "df = pd.read_csv('Auto.csv')\n",
        "def get_data_type(series, col_name):\n",
        "    if series.dtype == object:\n",
        "        return \"Qualitative (Categorical) - Nominal\"\n",
        "    elif np.issubdtype(series.dtype, np.number):\n",
        "        unique_vals = series.unique()\n",
        "        n_unique = series.nunique()\n",
        "        if col_name.lower() in ['year', 'grade', 'rank']:\n",
        "            return \"Qualitative (Categorical) - Ordinal\"\n",
        "        if np.issubdtype(series.dtype, np.integer):\n",
        "            if n_unique <= 15:  # Assuming if there are less than 15 unique values, attribute is of discrete data type\n",
        "                return \"Quantitative (Numerical) - Discrete\"\n",
        "            else:\n",
        "                return \"Quantitative (Numerical) - Continuous - Ratio\"\n",
        "        elif np.issubdtype(series.dtype, np.floating):\n",
        "            return \"Quantitative (Numerical) - Continuous - Ratio\"\n",
        "    return \"Unknown\"\n",
        "for col in df.columns:\n",
        "    dtype = get_data_type(df[col], col)\n",
        "    print(f\"{col}: {dtype}\")"
      ],
      "metadata": {
        "colab": {
          "base_uri": "https://localhost:8080/"
        },
        "id": "sjQCATdVXFtj",
        "outputId": "253b4e05-3bb6-4bfe-ce98-62615297b607"
      },
      "execution_count": 9,
      "outputs": [
        {
          "output_type": "stream",
          "name": "stdout",
          "text": [
            "mpg: Quantitative (Numerical) - Continuous - Ratio\n",
            "cylinders: Quantitative (Numerical) - Discrete\n",
            "displacement: Quantitative (Numerical) - Continuous - Ratio\n",
            "horsepower: Quantitative (Numerical) - Continuous - Ratio\n",
            "weight: Quantitative (Numerical) - Continuous - Ratio\n",
            "acceleration: Quantitative (Numerical) - Continuous - Ratio\n",
            "year: Qualitative (Categorical) - Ordinal\n",
            "origin: Quantitative (Numerical) - Discrete\n",
            "name: Qualitative (Categorical) - Nominal\n"
          ]
        }
      ]
    },
    {
      "cell_type": "code",
      "source": [
        "# Module 1\n",
        "\n",
        "# Identifying the data types of the attributes\n",
        "import pandas as pd\n",
        "\n",
        "# Load the dataset\n",
        "df = pd.read_csv('Auto.csv')\n",
        "\n",
        "# Print the data type of each column (numpy/pandas dtype)\n",
        "for col in df.columns:\n",
        "    print(f\"{col}: {df[col].dtype}\")\n"
      ],
      "metadata": {
        "colab": {
          "base_uri": "https://localhost:8080/"
        },
        "id": "ubecPDhxZHuF",
        "outputId": "3c0c038b-9f04-49af-ecf9-f94082a882ce"
      },
      "execution_count": 8,
      "outputs": [
        {
          "output_type": "stream",
          "name": "stdout",
          "text": [
            "mpg: float64\n",
            "cylinders: int64\n",
            "displacement: float64\n",
            "horsepower: int64\n",
            "weight: int64\n",
            "acceleration: float64\n",
            "year: int64\n",
            "origin: int64\n",
            "name: object\n"
          ]
        }
      ]
    },
    {
      "cell_type": "markdown",
      "source": [
        "Transformation Techniques: Performing data deduplication - replacing values –\n",
        "Discretization and binning. Introduction to Missing data, handling missing data: Traditional\n",
        "methods - Maximum Likelihood Estimation.\n",
        "Types of analysis: Univariate analysis - bivariate analysis - multivariate analysis. Time Series\n",
        "Analysis (TSA):\n",
        "Dimensions Summary Statistics Data Handling Data Cleaning Univariate, Bivariate, and Multivariate Analysis (include all possible visualizations)"
      ],
      "metadata": {
        "id": "-yMfmqNSZ3z5"
      }
    },
    {
      "cell_type": "code",
      "source": [],
      "metadata": {
        "id": "V213iavdZ2c0"
      },
      "execution_count": null,
      "outputs": []
    }
  ]
}