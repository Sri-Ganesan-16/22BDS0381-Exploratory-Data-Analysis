{
  "nbformat": 4,
  "nbformat_minor": 0,
  "metadata": {
    "colab": {
      "provenance": [],
      "authorship_tag": "ABX9TyO8eU72DbwHbT16YEGHYX5B",
      "include_colab_link": true
    },
    "kernelspec": {
      "name": "python3",
      "display_name": "Python 3"
    },
    "language_info": {
      "name": "python"
    }
  },
  "cells": [
    {
      "cell_type": "markdown",
      "metadata": {
        "id": "view-in-github",
        "colab_type": "text"
      },
      "source": [
        "<a href=\"https://colab.research.google.com/github/Sri-Ganesan-16/22BDS0381-Exploratory-Data-Analysis/blob/main/22BDS0381.ipynb\" target=\"_parent\"><img src=\"https://colab.research.google.com/assets/colab-badge.svg\" alt=\"Open In Colab\"/></a>"
      ]
    },
    {
      "cell_type": "code",
      "execution_count": null,
      "metadata": {
        "id": "V3dx--_II2I6"
      },
      "outputs": [],
      "source": [
        "# Name: Sri Ganesan\n",
        "# Register number: 22BDS0381\n",
        "# Course name: Exploratory data analysis\n",
        "# Course code: BCSE331L\n",
        "# Slot : C1"
      ]
    },
    {
      "cell_type": "code",
      "source": [
        "# Dataset = Auto.csv\n",
        "\n",
        "# Loading dataset\n",
        "\n",
        "import pandas as pd\n",
        "df = pd.read_csv('Auto.csv')\n",
        "print(df.head())"
      ],
      "metadata": {
        "id": "gTda71ReJMOX",
        "colab": {
          "base_uri": "https://localhost:8080/"
        },
        "outputId": "079601ed-57ab-4bdc-e069-e2ce7b30b4bc"
      },
      "execution_count": null,
      "outputs": [
        {
          "output_type": "stream",
          "name": "stdout",
          "text": [
            "    mpg  cylinders  displacement  horsepower  weight  acceleration  year  \\\n",
            "0  18.0          8         307.0         130    3504          12.0    70   \n",
            "1  15.0          8         350.0         165    3693          11.5    70   \n",
            "2  18.0          8         318.0         150    3436          11.0    70   \n",
            "3  16.0          8         304.0         150    3433          12.0    70   \n",
            "4  17.0          8         302.0         140    3449          10.5    70   \n",
            "\n",
            "   origin                       name  \n",
            "0       1  chevrolet chevelle malibu  \n",
            "1       1          buick skylark 320  \n",
            "2       1         plymouth satellite  \n",
            "3       1              amc rebel sst  \n",
            "4       1                ford torino  \n"
          ]
        }
      ]
    },
    {
      "cell_type": "code",
      "source": [
        "# Module 1\n",
        "\n",
        "# Identifying data types of attributes (Qualitative or Quantitative)\n",
        "\n",
        "import pandas as pd\n",
        "import numpy as np\n",
        "df = pd.read_csv('Auto.csv')\n",
        "def get_data_type(series, col_name):\n",
        "    if series.dtype == object:\n",
        "        return \"Qualitative (Categorical) - Nominal\"\n",
        "    elif np.issubdtype(series.dtype, np.number):\n",
        "        unique_vals = series.unique()\n",
        "        n_unique = series.nunique()\n",
        "        if col_name.lower() in ['year', 'grade', 'rank']:\n",
        "            return \"Qualitative (Categorical) - Ordinal\"\n",
        "        if np.issubdtype(series.dtype, np.integer):\n",
        "            if n_unique <= 15:  # Assuming if there are less than 15 unique values, attribute is of discrete data type\n",
        "                return \"Quantitative (Numerical) - Discrete\"\n",
        "            else:\n",
        "                return \"Quantitative (Numerical) - Continuous - Ratio\"\n",
        "        elif np.issubdtype(series.dtype, np.floating):\n",
        "            return \"Quantitative (Numerical) - Continuous - Ratio\"\n",
        "    return \"Unknown\"\n",
        "for col in df.columns:\n",
        "    dtype = get_data_type(df[col], col)\n",
        "    print(f\"{col}: {dtype}\")"
      ],
      "metadata": {
        "colab": {
          "base_uri": "https://localhost:8080/"
        },
        "id": "sjQCATdVXFtj",
        "outputId": "253b4e05-3bb6-4bfe-ce98-62615297b607"
      },
      "execution_count": null,
      "outputs": [
        {
          "output_type": "stream",
          "name": "stdout",
          "text": [
            "mpg: Quantitative (Numerical) - Continuous - Ratio\n",
            "cylinders: Quantitative (Numerical) - Discrete\n",
            "displacement: Quantitative (Numerical) - Continuous - Ratio\n",
            "horsepower: Quantitative (Numerical) - Continuous - Ratio\n",
            "weight: Quantitative (Numerical) - Continuous - Ratio\n",
            "acceleration: Quantitative (Numerical) - Continuous - Ratio\n",
            "year: Qualitative (Categorical) - Ordinal\n",
            "origin: Quantitative (Numerical) - Discrete\n",
            "name: Qualitative (Categorical) - Nominal\n"
          ]
        }
      ]
    },
    {
      "cell_type": "code",
      "source": [
        "# Module 1\n",
        "\n",
        "# Identifying the data types of the attributes\n",
        "\n",
        "import pandas as pd\n",
        "df = pd.read_csv('Auto.csv')\n",
        "for col in df.columns:\n",
        "    print(f\"{col}: {df[col].dtype}\")\n"
      ],
      "metadata": {
        "colab": {
          "base_uri": "https://localhost:8080/"
        },
        "id": "ubecPDhxZHuF",
        "outputId": "3c0c038b-9f04-49af-ecf9-f94082a882ce"
      },
      "execution_count": null,
      "outputs": [
        {
          "output_type": "stream",
          "name": "stdout",
          "text": [
            "mpg: float64\n",
            "cylinders: int64\n",
            "displacement: float64\n",
            "horsepower: int64\n",
            "weight: int64\n",
            "acceleration: float64\n",
            "year: int64\n",
            "origin: int64\n",
            "name: object\n"
          ]
        }
      ]
    },
    {
      "cell_type": "code",
      "source": [
        "# Module 2\n",
        "\n",
        "# Summary of dataset (Dimension, Columns, Datatypes, Missing value count)\n",
        "\n",
        "import pandas as pd\n",
        "df = pd.read_csv('Auto.csv')\n",
        "\n",
        "print(\"Summary\")\n",
        "print(f\"Shape (rows, columns): {df.shape}\")\n",
        "print(f\"Columns:\\n{df.columns.tolist()}\")\n",
        "print(\"\\nData types:\")\n",
        "print(df.dtypes)\n",
        "print(\"\\nNumber of non-null values per column:\")\n",
        "print(df.count())\n",
        "print(\"\\nNumber of missing values per column:\")\n",
        "print(df.isnull().sum())\n",
        "print(\"\\nFirst 5 rows:\")\n",
        "print(df.head())\n"
      ],
      "metadata": {
        "colab": {
          "base_uri": "https://localhost:8080/"
        },
        "id": "H3oG38_9Yi2y",
        "outputId": "a78b2fa8-7067-4d7c-dfda-c05a7e4c5918"
      },
      "execution_count": 7,
      "outputs": [
        {
          "output_type": "stream",
          "name": "stdout",
          "text": [
            "Summary\n",
            "Shape (rows, columns): (392, 9)\n",
            "Columns:\n",
            "['mpg', 'cylinders', 'displacement', 'horsepower', 'weight', 'acceleration', 'year', 'origin', 'name']\n",
            "\n",
            "Data types:\n",
            "mpg             float64\n",
            "cylinders         int64\n",
            "displacement    float64\n",
            "horsepower        int64\n",
            "weight            int64\n",
            "acceleration    float64\n",
            "year              int64\n",
            "origin            int64\n",
            "name             object\n",
            "dtype: object\n",
            "\n",
            "Number of non-null values per column:\n",
            "mpg             392\n",
            "cylinders       392\n",
            "displacement    392\n",
            "horsepower      392\n",
            "weight          392\n",
            "acceleration    392\n",
            "year            392\n",
            "origin          392\n",
            "name            392\n",
            "dtype: int64\n",
            "\n",
            "Number of missing values per column:\n",
            "mpg             0\n",
            "cylinders       0\n",
            "displacement    0\n",
            "horsepower      0\n",
            "weight          0\n",
            "acceleration    0\n",
            "year            0\n",
            "origin          0\n",
            "name            0\n",
            "dtype: int64\n",
            "\n",
            "First 5 rows:\n",
            "    mpg  cylinders  displacement  horsepower  weight  acceleration  year  \\\n",
            "0  18.0          8         307.0         130    3504          12.0    70   \n",
            "1  15.0          8         350.0         165    3693          11.5    70   \n",
            "2  18.0          8         318.0         150    3436          11.0    70   \n",
            "3  16.0          8         304.0         150    3433          12.0    70   \n",
            "4  17.0          8         302.0         140    3449          10.5    70   \n",
            "\n",
            "   origin                       name  \n",
            "0       1  chevrolet chevelle malibu  \n",
            "1       1          buick skylark 320  \n",
            "2       1         plymouth satellite  \n",
            "3       1              amc rebel sst  \n",
            "4       1                ford torino  \n"
          ]
        }
      ]
    },
    {
      "cell_type": "code",
      "source": [
        "# Module 2\n",
        "\n",
        "# Descriptive statistics of dataset\n",
        "\n",
        "import pandas as pd\n",
        "df = pd.read_csv('Auto.csv')\n",
        "print(\"Descriptive statistics\")\n",
        "print(df.describe(include = \"all\"))"
      ],
      "metadata": {
        "colab": {
          "base_uri": "https://localhost:8080/"
        },
        "id": "8iVeKceWZZ-3",
        "outputId": "3e40d168-af90-4f2f-f8fc-5331febf2c8c"
      },
      "execution_count": 8,
      "outputs": [
        {
          "output_type": "stream",
          "name": "stdout",
          "text": [
            "Descriptive statistics\n",
            "               mpg   cylinders  displacement  horsepower       weight  \\\n",
            "count   392.000000  392.000000    392.000000  392.000000   392.000000   \n",
            "unique         NaN         NaN           NaN         NaN          NaN   \n",
            "top            NaN         NaN           NaN         NaN          NaN   \n",
            "freq           NaN         NaN           NaN         NaN          NaN   \n",
            "mean     23.445918    5.471939    194.411990  104.469388  2977.584184   \n",
            "std       7.805007    1.705783    104.644004   38.491160   849.402560   \n",
            "min       9.000000    3.000000     68.000000   46.000000  1613.000000   \n",
            "25%      17.000000    4.000000    105.000000   75.000000  2225.250000   \n",
            "50%      22.750000    4.000000    151.000000   93.500000  2803.500000   \n",
            "75%      29.000000    8.000000    275.750000  126.000000  3614.750000   \n",
            "max      46.600000    8.000000    455.000000  230.000000  5140.000000   \n",
            "\n",
            "        acceleration        year      origin         name  \n",
            "count     392.000000  392.000000  392.000000          392  \n",
            "unique           NaN         NaN         NaN          301  \n",
            "top              NaN         NaN         NaN  amc matador  \n",
            "freq             NaN         NaN         NaN            5  \n",
            "mean       15.541327   75.979592    1.576531          NaN  \n",
            "std         2.758864    3.683737    0.805518          NaN  \n",
            "min         8.000000   70.000000    1.000000          NaN  \n",
            "25%        13.775000   73.000000    1.000000          NaN  \n",
            "50%        15.500000   76.000000    1.000000          NaN  \n",
            "75%        17.025000   79.000000    2.000000          NaN  \n",
            "max        24.800000   82.000000    3.000000          NaN  \n"
          ]
        }
      ]
    },
    {
      "cell_type": "markdown",
      "source": [
        "Perform deduplication\n",
        "\n",
        "Replace values\n",
        "\n",
        "Discretization and binning\n",
        "\n",
        "Handling missing data (Maximum likelihood estimation)\n",
        "\n",
        "Data cleaning\n",
        "\n",
        "Univariate analysis\n",
        "\n",
        "Bivariate analysis\n",
        "\n",
        "Multivariate analysis\n",
        "\n",
        "Visualizations"
      ],
      "metadata": {
        "id": "-yMfmqNSZ3z5"
      }
    }
  ]
}